{
 "cells": [
  {
   "cell_type": "code",
   "execution_count": 2,
   "id": "67bd50fc-b502-47f5-b6c9-1aa3250dc0de",
   "metadata": {},
   "outputs": [],
   "source": [
    "import pandas as pd\n",
    "import matplotlib.pyplot as plt\n",
    "import seaborn as sns\n",
    "from scipy.stats import f_oneway, kruskal"
   ]
  },
  {
   "cell_type": "code",
   "execution_count": 14,
   "id": "4b2a8824-dd95-4e3d-854a-263544c2a41f",
   "metadata": {},
   "outputs": [],
   "source": [
    "benin_df = pd.read_csv('data/benin_clean.csv')\n",
    "sierra_leone_df = pd.read_csv('data/sierraleone_clean.csv')\n",
    "togo_df = pd.read_csv('data/togo_clean.csv')"
   ]
  },
  {
   "cell_type": "code",
   "execution_count": 16,
   "id": "985fa6b3-43c7-4a5f-ad66-b1a671742f33",
   "metadata": {},
   "outputs": [
    {
     "name": "stdout",
     "output_type": "stream",
     "text": [
      "Benin columns: ['Timestamp', 'GHI', 'DNI', 'DHI', 'ModA', 'ModB', 'Tamb', 'RH', 'WS', 'WSgust', 'WSstdev', 'WD', 'WDstdev', 'BP', 'Cleaning', 'Precipitation', 'TModA', 'TModB', 'Comments']\n",
      "Sierra Leone columns: ['Timestamp', 'GHI', 'DNI', 'DHI', 'ModA', 'ModB', 'Tamb', 'RH', 'WS', 'WSgust', 'WSstdev', 'WD', 'WDstdev', 'BP', 'Cleaning', 'Precipitation', 'TModA', 'TModB', 'Comments']\n",
      "Togo columns: ['Timestamp', 'GHI', 'DNI', 'DHI', 'ModA', 'ModB', 'Tamb', 'RH', 'WS', 'WSgust', 'WSstdev', 'WD', 'WDstdev', 'BP', 'Cleaning', 'Precipitation', 'TModA', 'TModB', 'Comments']\n"
     ]
    }
   ],
   "source": [
    "print(\"Benin columns:\", benin_df.columns.tolist())\n",
    "print(\"Sierra Leone columns:\", sierra_leone_df.columns.tolist())\n",
    "print(\"Togo columns:\", togo_df.columns.tolist())"
   ]
  },
  {
   "cell_type": "code",
   "execution_count": 18,
   "id": "a4b0c678-dee6-4a06-82a5-f11e2d371b71",
   "metadata": {},
   "outputs": [],
   "source": [
    "benin_df['Country'] = 'Benin'\n",
    "sierra_leone_df['Country'] = 'Sierra Leone'\n",
    "togo_df['Country'] = 'Togo'"
   ]
  },
  {
   "cell_type": "code",
   "execution_count": 20,
   "id": "3ac70635-87b0-4c7f-841e-10800eaeedce",
   "metadata": {},
   "outputs": [],
   "source": [
    "combined_df = pd.concat([benin_df, sierra_leone_df, togo_df], ignore_index=True)"
   ]
  },
  {
   "cell_type": "code",
   "execution_count": 22,
   "id": "a8bb58e3-4090-4d91-a9e4-c6d281ac11bc",
   "metadata": {},
   "outputs": [],
   "source": [
    "plt.figure(figsize=(10, 6))\n",
    "sns.boxplot(x='Country', y='GHI', data=combined_df, hue='Country', palette='Set3')\n",
    "plt.title('GHI Comparison Across Countries')\n",
    "plt.savefig('notebooks/ghi_boxplot.png')\n",
    "plt.close()"
   ]
  },
  {
   "cell_type": "code",
   "execution_count": 24,
   "id": "6515db78-5346-48a1-a190-4d5b8f26c905",
   "metadata": {},
   "outputs": [],
   "source": [
    "plt.figure(figsize=(10, 6))\n",
    "sns.boxplot(x='Country', y='DNI', data=combined_df, hue='Country', palette='Set3')\n",
    "plt.title('DNI Comparison Across Countries')\n",
    "plt.savefig('notebooks/dni_boxplot.png')\n",
    "plt.close()"
   ]
  },
  {
   "cell_type": "code",
   "execution_count": 26,
   "id": "21627035-694a-44e9-9087-cd9bc35860ce",
   "metadata": {},
   "outputs": [],
   "source": [
    "plt.figure(figsize=(10, 6))\n",
    "sns.boxplot(x='Country', y='DHI', data=combined_df, hue='Country', palette='Set3')\n",
    "plt.title('DHI Comparison Across Countries')\n",
    "plt.savefig('notebooks/dhi_boxplot.png')\n",
    "plt.close()"
   ]
  },
  {
   "cell_type": "code",
   "execution_count": 28,
   "id": "92a38662-cc62-437c-a440-7b84e8941470",
   "metadata": {},
   "outputs": [
    {
     "name": "stdout",
     "output_type": "stream",
     "text": [
      "\n",
      "Summary Table (Mean, Median, Std Dev):\n",
      "                 GHI                    DNI                    DHI         \\\n",
      "                mean median     std    mean median     std    mean median   \n",
      "Country                                                                     \n",
      "Benin         240.56    1.8  331.13  167.19   -0.1  261.71  115.36    1.6   \n",
      "Sierra Leone  201.96    0.3  298.50  116.38   -0.1  218.65  113.72   -0.1   \n",
      "Togo          230.56    2.1  322.53  151.26    0.0  250.96  116.44    2.5   \n",
      "\n",
      "                      \n",
      "                 std  \n",
      "Country               \n",
      "Benin         158.69  \n",
      "Sierra Leone  158.95  \n",
      "Togo          156.52  \n"
     ]
    }
   ],
   "source": [
    "summary_stats = combined_df.groupby('Country')[['GHI', 'DNI', 'DHI']].agg(['mean', 'median', 'std']).round(2)\n",
    "print(\"\\nSummary Table (Mean, Median, Std Dev):\")\n",
    "print(summary_stats)"
   ]
  },
  {
   "cell_type": "code",
   "execution_count": 30,
   "id": "0cf39a39-a176-401b-8c09-386f898d4e23",
   "metadata": {},
   "outputs": [
    {
     "name": "stdout",
     "output_type": "stream",
     "text": [
      "\n",
      "ANOVA Test for GHI:\n",
      "F-statistic: 2090.09, p-value: 0.0000\n"
     ]
    }
   ],
   "source": [
    "ghi_benin = benin_df['GHI'].dropna()\n",
    "ghi_sierra_leone = sierra_leone_df['GHI'].dropna()\n",
    "ghi_togo = togo_df['GHI'].dropna()\n",
    "anova_result = f_oneway(ghi_benin, ghi_sierra_leone, ghi_togo)\n",
    "print(\"\\nANOVA Test for GHI:\")\n",
    "print(f\"F-statistic: {anova_result.statistic:.2f}, p-value: {anova_result.pvalue:.4f}\")"
   ]
  },
  {
   "cell_type": "code",
   "execution_count": 32,
   "id": "e45d02c3-f11b-4a3d-b0da-499bf3b47610",
   "metadata": {},
   "outputs": [
    {
     "name": "stdout",
     "output_type": "stream",
     "text": [
      "Kruskal-Wallis Test for GHI:\n",
      "H-statistic: 4524.88, p-value: 0.0000\n"
     ]
    }
   ],
   "source": [
    "kruskal_result = kruskal(ghi_benin, ghi_sierra_leone, ghi_togo)\n",
    "print(\"Kruskal-Wallis Test for GHI:\")\n",
    "print(f\"H-statistic: {kruskal_result.statistic:.2f}, p-value: {kruskal_result.pvalue:.4f}\")"
   ]
  },
  {
   "cell_type": "code",
   "execution_count": 34,
   "id": "7e0d63ba-deac-4b4d-8803-08a4129cb9d9",
   "metadata": {},
   "outputs": [],
   "source": [
    "avg_ghi = combined_df.groupby('Country')['GHI'].mean().sort_values()\n",
    "plt.figure(figsize=(8, 6))\n",
    "avg_ghi.plot(kind='bar', color=['#ff9999', '#66b3ff', '#99ff99'])\n",
    "plt.title('Average GHI by Country')\n",
    "plt.xlabel('Country')\n",
    "plt.ylabel('Average GHI')\n",
    "plt.savefig('notebooks/avg_ghi_bar_chart.png')\n",
    "plt.close()"
   ]
  },
  {
   "cell_type": "code",
   "execution_count": null,
   "id": "3f4c6064-746a-48e2-952f-5d2d99638299",
   "metadata": {},
   "outputs": [],
   "source": []
  }
 ],
 "metadata": {
  "kernelspec": {
   "display_name": "Python [conda env:base] *",
   "language": "python",
   "name": "conda-base-py"
  },
  "language_info": {
   "codemirror_mode": {
    "name": "ipython",
    "version": 3
   },
   "file_extension": ".py",
   "mimetype": "text/x-python",
   "name": "python",
   "nbconvert_exporter": "python",
   "pygments_lexer": "ipython3",
   "version": "3.12.7"
  }
 },
 "nbformat": 4,
 "nbformat_minor": 5
}
